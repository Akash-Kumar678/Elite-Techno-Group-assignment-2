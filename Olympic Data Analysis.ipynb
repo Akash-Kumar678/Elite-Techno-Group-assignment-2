{
  "nbformat": 4,
  "nbformat_minor": 0,
  "metadata": {
    "colab": {
      "name": "Summer.ipynb",
      "provenance": [],
      "collapsed_sections": []
    },
    "kernelspec": {
      "display_name": "Python 2",
      "language": "python",
      "name": "python2"
    },
    "language_info": {
      "codemirror_mode": {
        "name": "ipython",
        "version": 2
      },
      "file_extension": ".py",
      "mimetype": "text/x-python",
      "name": "python",
      "nbconvert_exporter": "python",
      "pygments_lexer": "ipython2",
      "version": "2.7.16"
    }
  },
  "cells": [
    {
      "cell_type": "markdown",
      "metadata": {
        "id": "pVRR-D0A7-xP"
      },
      "source": [
        "# Summer Olympics Data Analysis Assignment"
      ]
    },
    {
      "cell_type": "markdown",
      "metadata": {
        "id": "spe87wQs7-xU"
      },
      "source": [
        "### 1. In how many cities Summer Olympics is held so far?"
      ]
    },
    {
      "cell_type": "code",
      "metadata": {
        "colab": {
          "base_uri": "https://localhost:8080/"
        },
        "id": "EyGXI_Nz7-xV",
        "outputId": "959d23b2-19ff-4477-e487-8f0e17c8db54"
      },
      "source": [
        "import pandas as pd\n",
        "import numpy as np\n",
        "\n",
        "df = pd.read_csv('summer.csv')\n",
        "\n",
        "#counting unique cities \n",
        "len(df['City'].unique())\n"
      ],
      "execution_count": 110,
      "outputs": [
        {
          "output_type": "execute_result",
          "data": {
            "text/plain": [
              "22"
            ]
          },
          "metadata": {},
          "execution_count": 110
        }
      ]
    },
    {
      "cell_type": "markdown",
      "metadata": {
        "id": "JouqmVyQ7-xW"
      },
      "source": [
        "### 2. Which sport is having most number of Gold Medals so far? (Top 5)"
      ]
    },
    {
      "cell_type": "code",
      "metadata": {
        "id": "KiMnKgD27-xX",
        "colab": {
          "base_uri": "https://localhost:8080/",
          "height": 348
        },
        "outputId": "1e925bc6-1b78-47ca-b1aa-c5f77dc2d832"
      },
      "source": [
        "#newdf dataframe have those data where Medal is gold(ie. gold medalist)\n",
        "newdf = df[df['Medal']=='Gold']\n",
        "\n",
        "data = []\n",
        "#now from this new dataframe counted the sport and how many time get gold medal\n",
        "for sport in newdf['Sport'].unique():\n",
        "  data.append([sport,len(newdf[newdf['Sport']==sport])])\n",
        "\n",
        "data = pd.DataFrame(data,columns=['Sport','Medal']).sort_values(by='Medal',ascending=False).head()\n",
        "\n",
        "data.plot(x='Sport',y='Medal',kind='bar')"
      ],
      "execution_count": 33,
      "outputs": [
        {
          "output_type": "execute_result",
          "data": {
            "text/plain": [
              "<matplotlib.axes._subplots.AxesSubplot at 0x7fd93a248110>"
            ]
          },
          "metadata": {},
          "execution_count": 33
        },
        {
          "output_type": "display_data",
          "data": {
            "image/png": "[encoded data removed]",
            "text/plain": [
              "<Figure size 432x288 with 1 Axes>"
            ]
          },
          "metadata": {
            "needs_background": "light"
          }
        }
      ]
    },
    {
      "cell_type": "markdown",
      "metadata": {
        "id": "c2sfa94T7-xX"
      },
      "source": [
        "### 3. Which sport is having most number of medals so far? (Top 5)"
      ]
    },
    {
      "cell_type": "code",
      "metadata": {
        "id": "PNwlL-jV7-xY",
        "colab": {
          "base_uri": "https://localhost:8080/",
          "height": 348
        },
        "outputId": "76ef970d-09a0-4b7c-c7e8-081dbc74d0a8"
      },
      "source": [
        "sdata = []\n",
        "for sport in df['Sport'].unique():\n",
        "  sdata.append([sport,len(df[df['Sport']==sport])])\n",
        "\n",
        "sdata = pd.DataFrame(sdata,columns=['Sport','Medal']).sort_values(by='Medal',ascending=False).head()\n",
        "\n",
        "sdata.plot(x='Sport',y='Medal',kind='bar')\n"
      ],
      "execution_count": 36,
      "outputs": [
        {
          "output_type": "execute_result",
          "data": {
            "text/plain": [
              "<matplotlib.axes._subplots.AxesSubplot at 0x7fd93614b090>"
            ]
          },
          "metadata": {},
          "execution_count": 36
        },
        {
          "output_type": "display_data",
          "data": {
            "image/png": "[encoded data removed]",
            "text/plain": [
              "<Figure size 432x288 with 1 Axes>"
            ]
          },
          "metadata": {
            "needs_background": "light"
          }
        }
      ]
    },
    {
      "cell_type": "markdown",
      "metadata": {
        "id": "HQHL2MAb7-xY"
      },
      "source": [
        "### 4. Which player has won most number of medals? (Top 5)"
      ]
    },
    {
      "cell_type": "code",
      "metadata": {
        "id": "s-dNxvLu7-xZ",
        "colab": {
          "base_uri": "https://localhost:8080/",
          "height": 407
        },
        "outputId": "8f00b12a-4cf9-4043-e75b-868f43919970"
      },
      "source": [
        "adata =[]\n",
        "for athlete in df['Athlete'].unique():\n",
        "  adata.append([athlete,len(df[df['Athlete']==athlete])])\n",
        "\n",
        "adata = pd.DataFrame(adata,columns=['Athlete','Medal']).sort_values(by='Medal',ascending=False).head()\n",
        "\n",
        "adata.plot(x='Athlete',y='Medal',kind='bar')\n",
        "\n",
        "# PHELPS, Michael\t       22\n",
        "# LATYNINA, Larisa\t     18\n",
        "#\tANDRIANOV, Nikolay\t   15\n",
        "#\tONO, Takashi\t         13\n",
        "#\tMANGIAROTTI, Edoardo\t 13"
      ],
      "execution_count": 40,
      "outputs": [
        {
          "output_type": "execute_result",
          "data": {
            "text/plain": [
              "<matplotlib.axes._subplots.AxesSubplot at 0x7fd936073a90>"
            ]
          },
          "metadata": {},
          "execution_count": 40
        },
        {
          "output_type": "display_data",
          "data": {
            "image/png": "[encoded data removed]",
            "text/plain": [
              "<Figure size 432x288 with 1 Axes>"
            ]
          },
          "metadata": {
            "needs_background": "light"
          }
        }
      ]
    },
    {
      "cell_type": "markdown",
      "metadata": {
        "id": "aNul4qCE7-xa"
      },
      "source": [
        "### 5. Which player has won most number Gold Medals of medals? (Top 5)"
      ]
    },
    {
      "cell_type": "code",
      "metadata": {
        "id": "_sM8CzBD7-xa",
        "colab": {
          "base_uri": "https://localhost:8080/",
          "height": 375
        },
        "outputId": "96916016-770a-41a1-b11d-6cf8a56d92e3"
      },
      "source": [
        "agdata = []\n",
        "for athlete in newdf['Athlete'].unique():\n",
        "  agdata.append([athlete,len(newdf[newdf['Athlete']==athlete])])\n",
        "\n",
        "agdata = pd.DataFrame(agdata,columns=['Athlete','Medal']).sort_values(by='Medal',ascending=False).head()\n",
        "\n",
        "agdata.plot(x='Athlete',y='Medal',kind='bar')\n",
        "\n",
        "# PHELPS, Michael  18\n",
        "# SPITZ, Mark       9\n",
        "# LATYNINA, Larisa  9\n",
        "# LEWIS, Carl       9\n",
        "# NURMI, Paavo\t    9"
      ],
      "execution_count": 57,
      "outputs": [
        {
          "output_type": "execute_result",
          "data": {
            "text/plain": [
              "<matplotlib.axes._subplots.AxesSubplot at 0x7fd935ee6a50>"
            ]
          },
          "metadata": {},
          "execution_count": 57
        },
        {
          "output_type": "display_data",
          "data": {
            "image/png": "[encoded data removed]",
            "text/plain": [
              "<Figure size 432x288 with 1 Axes>"
            ]
          },
          "metadata": {
            "needs_background": "light"
          }
        }
      ]
    },
    {
      "cell_type": "markdown",
      "metadata": {
        "id": "l78Ztt5X7-xa"
      },
      "source": [
        "### 6. In which year India won first Gold Medal in Summer Olympics?"
      ]
    },
    {
      "cell_type": "code",
      "metadata": {
        "id": "CMG0uLGw7-xb",
        "colab": {
          "base_uri": "https://localhost:8080/"
        },
        "outputId": "8b7cfc2f-a166-4257-d97a-58bd8861227d"
      },
      "source": [
        "#inddf dataframe have those data Where Country is India\n",
        "inddf = df[df['Country']=='IND']\n",
        "\n",
        "#goldinddf dataframe have only those data where Medal is gold and Country is india\n",
        "goldinddf = inddf[inddf['Medal']=='Gold']\n",
        "\n",
        "#from new dataframe 1st fetching year \n",
        "goldinddf['Year'].head(1)\n",
        "#In 1928 India won first Medal"
      ],
      "execution_count": 64,
      "outputs": [
        {
          "output_type": "execute_result",
          "data": {
            "text/plain": [
              "5512    1928\n",
              "Name: Year, dtype: int64"
            ]
          },
          "metadata": {},
          "execution_count": 64
        }
      ]
    },
    {
      "cell_type": "markdown",
      "metadata": {
        "id": "Splra5ln7-xb"
      },
      "source": [
        "### 7. Which event is most popular in terms on number of players? (Top 5)"
      ]
    },
    {
      "cell_type": "code",
      "metadata": {
        "id": "xvSQ3zrU7-xc",
        "colab": {
          "base_uri": "https://localhost:8080/",
          "height": 382
        },
        "outputId": "97374ff4-8401-410b-d2ff-342248e1ae95"
      },
      "source": [
        "\n",
        "g=df.groupby('Event').count()['Athlete'].sort_values(ascending=False).head()\n",
        "g.plot(x='Event',y='Athlete',kind='bar')\n"
      ],
      "execution_count": 99,
      "outputs": [
        {
          "output_type": "execute_result",
          "data": {
            "text/plain": [
              "<matplotlib.axes._subplots.AxesSubplot at 0x7fd935cf9950>"
            ]
          },
          "metadata": {},
          "execution_count": 99
        },
        {
          "output_type": "display_data",
          "data": {
            "image/png": "[encoded data removed]",
            "text/plain": [
              "<Figure size 432x288 with 1 Axes>"
            ]
          },
          "metadata": {
            "needs_background": "light"
          }
        }
      ]
    },
    {
      "cell_type": "markdown",
      "metadata": {
        "id": "gYW8zyL97-xc"
      },
      "source": [
        "### 8. Which sport is having most female Gold Medalists? (Top 5)"
      ]
    },
    {
      "cell_type": "code",
      "metadata": {
        "id": "RVfrhLv77-xd",
        "colab": {
          "base_uri": "https://localhost:8080/",
          "height": 348
        },
        "outputId": "c88c57a0-c97a-4708-f9e8-0a49baa44bbd"
      },
      "source": [
        "#newdf dataframe consist all the data where medal is gold \n",
        "#fgdf dataframe consist only those data where Gender is women and Medal is gold\n",
        "fgdf=newdf[newdf['Gender']=='Women']\n",
        "\n",
        "#grouping the fgdf dataframe wth respect to sport the counted total gender value(ie. women),\n",
        "#then we sorted in descending order so we get the top sport where women count is more\n",
        "\n",
        "Sfgoldmedal=fgdf.groupby('Sport').count()['Gender'].sort_values(ascending=False).head()\n",
        "Sfgoldmedal.plot(x='Sport',y='Gender',kind='bar')"
      ],
      "execution_count": 108,
      "outputs": [
        {
          "output_type": "execute_result",
          "data": {
            "text/plain": [
              "<matplotlib.axes._subplots.AxesSubplot at 0x7fd935bde590>"
            ]
          },
          "metadata": {},
          "execution_count": 108
        },
        {
          "output_type": "display_data",
          "data": {
            "image/png": "[encoded data removed]",
            "text/plain": [
              "<Figure size 432x288 with 1 Axes>"
            ]
          },
          "metadata": {
            "needs_background": "light"
          }
        }
      ]
    }
  ]
}